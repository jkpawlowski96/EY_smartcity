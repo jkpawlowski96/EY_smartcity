{
 "cells": [
  {
   "cell_type": "code",
   "execution_count": 1,
   "metadata": {},
   "outputs": [],
   "source": [
    "import pandas as pd\n",
    "import numpy as np\n",
    "import datetime\n",
    "import matplotlib.pyplot as plt\n",
    "import matplotlib.patches as patches\n",
    "from sklearn.preprocessing import MinMaxScaler"
   ]
  },
  {
   "cell_type": "code",
   "execution_count": 2,
   "metadata": {},
   "outputs": [
    {
     "name": "stderr",
     "output_type": "stream",
     "text": [
      "D:\\Anaconda\\lib\\site-packages\\sklearn\\preprocessing\\data.py:323: DataConversionWarning: Data with input dtype bool, float64 were all converted to float64 by MinMaxScaler.\n",
      "  return self.partial_fit(X, y)\n"
     ]
    }
   ],
   "source": [
    "train = pd.read_csv('./output/train.csv')    \n",
    "test = pd.read_csv('./output/test.csv')    \n",
    "test2 = pd.read_csv('./output/test2.csv')\n",
    "\n",
    "for col in train.columns:\n",
    "    mode = train[col].mode()[0]\n",
    "    test[col].fillna(mode, inplace=True)\n",
    "    test2[col].fillna(mode, inplace=True)\n",
    "    train[col].fillna(mode, inplace=True)   \n",
    "\n",
    "def within_measure(x, y):\n",
    "    #  3750901.5068 ≤ 𝑥 ≤ 3770901.5068\n",
    "    #  −19268905.6133 ≤ 𝑦 ≤ −19208905.6133\n",
    "    if 3750901.5068 <= x and x <= 3770901.5068 and -19268905.6133 <= y and y <= -19208905.6133:\n",
    "        return 1\n",
    "    else:\n",
    "        return 0\n",
    "\n",
    "train = train.append(test[test.x_exit==test.x_exit])\n",
    "columns=[#'hash', 'trajectory_id', \n",
    "        # 'time_entry', 'time_exit', 'vmax', 'vmin','vmean', \n",
    "    'x_entry', 'y_entry', 'first', 'last',\n",
    "       #'x_req', 'y_req', \n",
    "    #'x_start', 'y_start', 'distance', 'time_start',\n",
    "    #   'time_delta', 'time_total', 'city_start', 'city_now', 'city_was',\n",
    "     #  'x_dir', 'y_dir', 'len',\n",
    "      #   'distance_to_city', 'speed',\n",
    "        #'x_exit', 'y_exit', \n",
    "        ]\n",
    "x_train = train[columns]\n",
    "x_test = test2[columns]\n",
    "\n",
    "scaler = MinMaxScaler()\n",
    "scaler.fit(x_train.append(x_test))\n",
    "x_train = scaler.transform(x_train)\n",
    "x_test = scaler.transform(x_test)\n",
    "\n",
    "\n",
    "\n",
    "y_train=pd.DataFrame()\n",
    "\n",
    "y_train['x_exit']=train['x_exit']\n",
    "y_train['y_exit']=train['y_exit']\n",
    "\n",
    "scaler.fit(y_train)\n",
    "y_train = scaler.transform(y_train)\n",
    "\n",
    "x_train = np.reshape(x_train, x_train.shape + (1,))\n",
    "x_test = np.reshape(x_test, x_test.shape + (1,))\n"
   ]
  },
  {
   "cell_type": "code",
   "execution_count": 3,
   "metadata": {},
   "outputs": [
    {
     "name": "stdout",
     "output_type": "stream",
     "text": [
      "<class 'pandas.core.frame.DataFrame'>\n",
      "Int64Index: 1017199 entries, 0 to 202936\n",
      "Data columns (total 29 columns):\n",
      "hash                1017199 non-null object\n",
      "trajectory_id       1017199 non-null object\n",
      "time_entry          1017199 non-null int64\n",
      "time_exit           1017199 non-null int64\n",
      "vmax                1017199 non-null float64\n",
      "vmin                1017199 non-null float64\n",
      "vmean               1017199 non-null float64\n",
      "x_entry             1017199 non-null float64\n",
      "y_entry             1017199 non-null float64\n",
      "x_exit              1017199 non-null float64\n",
      "y_exit              1017199 non-null float64\n",
      "first               1017199 non-null bool\n",
      "last                1017199 non-null bool\n",
      "x_req               1017199 non-null float64\n",
      "y_req               1017199 non-null float64\n",
      "x_start             1017199 non-null float64\n",
      "y_start             1017199 non-null float64\n",
      "distance            1017199 non-null float64\n",
      "time_start          1017199 non-null int64\n",
      "time_delta          1017199 non-null int64\n",
      "time_total          1017199 non-null int64\n",
      "city_start          1017199 non-null bool\n",
      "city_now            1017199 non-null bool\n",
      "city_was            1017199 non-null bool\n",
      "x_dir               1017199 non-null float64\n",
      "y_dir               1017199 non-null float64\n",
      "len                 1017199 non-null int64\n",
      "distance_to_city    1017199 non-null float64\n",
      "speed               1017199 non-null float64\n",
      "dtypes: bool(5), float64(16), int64(6), object(2)\n",
      "memory usage: 198.9+ MB\n"
     ]
    }
   ],
   "source": [
    "train.info()"
   ]
  },
  {
   "cell_type": "code",
   "execution_count": 4,
   "metadata": {
    "scrolled": false
   },
   "outputs": [],
   "source": [
    "def plotmap(ycity,title):\n",
    "    fig, ax = plt.subplots()\n",
    "    fig.set_figheight(10)\n",
    "    fig.set_figwidth(16)\n",
    "\n",
    "    df=test2[['x_entry','y_entry']]\n",
    "    df['sqrt']=city_sqrt\n",
    "    df['target']=ycity\n",
    "    df=df[df.sqrt==0]\n",
    "    leg=['Outside','City']\n",
    "    # Plot\n",
    "    for data in [df[df.target==1]]:\n",
    "        ax.scatter(data.x_entry.values, data.y_entry.values,c='r',s=10, alpha=0.5,label=leg.pop(0))\n",
    "\n",
    "    # Create a Rectangle patch\n",
    "    rect = patches.Rectangle((3750901.5068,-19268905.6133),3770901.5068-3750901.5068,19268905.6133-19208905.6133,linewidth=2,edgecolor='y',facecolor='none')\n",
    "\n",
    "    # Add the patch to the Axes\n",
    "    ax.add_patch(rect)    \n",
    "\n",
    "    ax.set(xlabel='x', ylabel='y',\n",
    "           title=title)\n",
    "    ax.legend(loc=\"upper left\", markerscale=2, scatterpoints=1, fontsize=10)\n",
    "    plt.show()"
   ]
  },
  {
   "cell_type": "code",
   "execution_count": null,
   "metadata": {
    "scrolled": true
   },
   "outputs": [
    {
     "name": "stderr",
     "output_type": "stream",
     "text": [
      "Using TensorFlow backend.\n"
     ]
    },
    {
     "name": "stdout",
     "output_type": "stream",
     "text": [
      "WARNING:tensorflow:From D:\\Anaconda\\lib\\site-packages\\tensorflow\\python\\framework\\op_def_library.py:263: colocate_with (from tensorflow.python.framework.ops) is deprecated and will be removed in a future version.\n",
      "Instructions for updating:\n",
      "Colocations handled automatically by placer.\n",
      "WARNING:tensorflow:From D:\\Anaconda\\lib\\site-packages\\tensorflow\\python\\ops\\math_ops.py:3066: to_int32 (from tensorflow.python.ops.math_ops) is deprecated and will be removed in a future version.\n",
      "Instructions for updating:\n",
      "Use tf.cast instead.\n",
      "Epoch 1/20\n",
      "1017199/1017199 [==============================] - 84s 82us/step - loss: 0.0517\n",
      "Epoch 2/20\n",
      "1017199/1017199 [==============================] - 79s 77us/step - loss: 0.0443\n",
      "Epoch 3/20\n",
      "1017199/1017199 [==============================] - 78s 77us/step - loss: 0.0435\n",
      "Epoch 4/20\n",
      " 570000/1017199 [===============>..............] - ETA: 34s - loss: 0.0434"
     ]
    }
   ],
   "source": [
    "from keras.models import Sequential\n",
    "from keras.layers import SimpleRNN\n",
    "from keras.layers import LSTM\n",
    "model = Sequential()\n",
    "from keras.layers import Dense\n",
    "\n",
    "\n",
    "size_nn = np.shape(x_train)[1]\n",
    "\n",
    "model.add(LSTM(200, input_shape=x_train.shape[1:]))\n",
    "model.add(Dense(units=500, activation='relu', input_dim=size_nn))\n",
    "model.add(Dense(units=500, activation='relu'))\n",
    "model.add(Dense(units=500, activation='relu'))\n",
    "model.add(Dense(units=500, activation='relu'))\n",
    "#model.add(SimpleRNN( units=10, activation='tanh', \n",
    "model.add(Dense(units=2, activation='softmax'))\n",
    "\n",
    "from keras import optimizers\n",
    "\n",
    "#sgd = optimizers.SGD(lr=0.01, clipnorm=1.)\n",
    "adam = optimizers.Adam(lr=0.005, beta_1=0.9, beta_2=0.999, epsilon=None, decay=0.0, amsgrad=False)\n",
    "\n",
    "model.compile(loss='mean_squared_error',\n",
    "              #loss='mean_absolute_error',\n",
    "              optimizer=adam,\n",
    "              #metrics=['mean_squared_error'],\n",
    "             )\n",
    "\n",
    "\n",
    "\n",
    "def nn():\n",
    "    # batch_size=500\n",
    "    \n",
    "    #trainX = numpy.reshape(trainX, (trainX.shape[0], 1, trainX.shape[1]))\n",
    "    #testX = numpy.reshape(testX, (testX.shape[0], 1, testX.shape[1]))\n",
    "    \n",
    "    model.fit(x_train, y_train, batch_size=10000, epochs=20,verbose=True)\n",
    "    \n",
    "    #Prediction    \n",
    "    target=list(model.predict(x_test))\n",
    "    \n",
    "    #print('Train Evaluation:',model.evaluate(x_train, y_train.values))\n",
    "\n",
    "    return target\n",
    "  \n",
    "        \n",
    "\n",
    "city_lgbm=pd.DataFrame()\n",
    "\n",
    "\n",
    "result = nn()   \n",
    "result = scaler.inverse_transform(np.array(result))\n",
    "city_lgbm['x_exit']=result[:,0]\n",
    "city_lgbm['y_exit']=result[:,1]\n",
    "\n"
   ]
  },
  {
   "cell_type": "code",
   "execution_count": null,
   "metadata": {},
   "outputs": [],
   "source": [
    "city_lgbm[:10]"
   ]
  },
  {
   "cell_type": "code",
   "execution_count": null,
   "metadata": {},
   "outputs": [],
   "source": [
    "\n",
    "\n",
    "\n",
    "\n",
    "city = [within_measure(x, y) for x,y in zip(city_lgbm.x_exit.values,city_lgbm.y_exit.values)]\n",
    "city_sqrt = [within_measure(x, y) for x,y in zip(test2.x_entry.values,test2.y_entry.values)]\n",
    "city[:10]"
   ]
  },
  {
   "cell_type": "code",
   "execution_count": null,
   "metadata": {},
   "outputs": [],
   "source": [
    "plotmap(city,'nn')"
   ]
  },
  {
   "cell_type": "code",
   "execution_count": null,
   "metadata": {},
   "outputs": [],
   "source": [
    "\n",
    "\n",
    "\n",
    "\n",
    "\n",
    "\n",
    "submission= pd.DataFrame()\n",
    "trajectory_id = test2['trajectory_id']\n",
    "submission['id']=trajectory_id \n",
    "submission['target'] = city\n",
    "submission.to_csv('./output/nn/lstm.csv',index=False)    \n",
    "\n"
   ]
  },
  {
   "cell_type": "code",
   "execution_count": null,
   "metadata": {},
   "outputs": [],
   "source": []
  },
  {
   "cell_type": "code",
   "execution_count": null,
   "metadata": {},
   "outputs": [],
   "source": []
  }
 ],
 "metadata": {
  "kernelspec": {
   "display_name": "Python 3",
   "language": "python",
   "name": "python3"
  },
  "language_info": {
   "codemirror_mode": {
    "name": "ipython",
    "version": 3
   },
   "file_extension": ".py",
   "mimetype": "text/x-python",
   "name": "python",
   "nbconvert_exporter": "python",
   "pygments_lexer": "ipython3",
   "version": "3.7.1"
  }
 },
 "nbformat": 4,
 "nbformat_minor": 2
}
