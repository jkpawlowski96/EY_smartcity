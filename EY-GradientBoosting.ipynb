{
 "cells": [
  {
   "cell_type": "code",
   "execution_count": 1,
   "metadata": {},
   "outputs": [],
   "source": [
    "import pandas as pd\n",
    "import numpy as np\n",
    "import datetime"
   ]
  },
  {
   "cell_type": "code",
   "execution_count": 2,
   "metadata": {},
   "outputs": [],
   "source": [
    "train = pd.read_csv('./output/train.csv')    \n",
    "test = pd.read_csv('./output/test.csv')    \n",
    "test2 = pd.read_csv('./output/test2.csv')\n"
   ]
  },
  {
   "cell_type": "code",
   "execution_count": 3,
   "metadata": {},
   "outputs": [
    {
     "name": "stdout",
     "output_type": "stream",
     "text": [
      "<class 'pandas.core.frame.DataFrame'>\n",
      "RangeIndex: 814262 entries, 0 to 814261\n",
      "Data columns (total 13 columns):\n",
      "hash             814262 non-null object\n",
      "trajectory_id    814262 non-null object\n",
      "time_entry       814262 non-null int64\n",
      "time_exit        814262 non-null int64\n",
      "vmax             814262 non-null float64\n",
      "vmin             814262 non-null float64\n",
      "vmean            814262 non-null float64\n",
      "x_entry          814262 non-null float64\n",
      "y_entry          814262 non-null float64\n",
      "x_exit           814262 non-null float64\n",
      "y_exit           814262 non-null float64\n",
      "x_req            814262 non-null float64\n",
      "y_req            814262 non-null float64\n",
      "dtypes: float64(9), int64(2), object(2)\n",
      "memory usage: 80.8+ MB\n"
     ]
    }
   ],
   "source": [
    "train.info()"
   ]
  },
  {
   "cell_type": "code",
   "execution_count": 4,
   "metadata": {},
   "outputs": [
    {
     "data": {
      "text/html": [
       "<div>\n",
       "<style scoped>\n",
       "    .dataframe tbody tr th:only-of-type {\n",
       "        vertical-align: middle;\n",
       "    }\n",
       "\n",
       "    .dataframe tbody tr th {\n",
       "        vertical-align: top;\n",
       "    }\n",
       "\n",
       "    .dataframe thead th {\n",
       "        text-align: right;\n",
       "    }\n",
       "</style>\n",
       "<table border=\"1\" class=\"dataframe\">\n",
       "  <thead>\n",
       "    <tr style=\"text-align: right;\">\n",
       "      <th></th>\n",
       "      <th>hash</th>\n",
       "      <th>trajectory_id</th>\n",
       "      <th>time_entry</th>\n",
       "      <th>time_exit</th>\n",
       "      <th>vmax</th>\n",
       "      <th>vmin</th>\n",
       "      <th>vmean</th>\n",
       "      <th>x_entry</th>\n",
       "      <th>y_entry</th>\n",
       "      <th>x_exit</th>\n",
       "      <th>y_exit</th>\n",
       "      <th>x_req</th>\n",
       "      <th>y_req</th>\n",
       "    </tr>\n",
       "  </thead>\n",
       "  <tbody>\n",
       "    <tr>\n",
       "      <th>0</th>\n",
       "      <td>00032f51796fd5437b238e3a9823d13d_31</td>\n",
       "      <td>traj_00032f51796fd5437b238e3a9823d13d_31_0</td>\n",
       "      <td>42197</td>\n",
       "      <td>42617</td>\n",
       "      <td>0.0</td>\n",
       "      <td>0.0</td>\n",
       "      <td>0.0</td>\n",
       "      <td>3.773413e+06</td>\n",
       "      <td>-1.909828e+07</td>\n",
       "      <td>3.773111e+06</td>\n",
       "      <td>-1.914508e+07</td>\n",
       "      <td>3.773413e+06</td>\n",
       "      <td>-1.909828e+07</td>\n",
       "    </tr>\n",
       "    <tr>\n",
       "      <th>1</th>\n",
       "      <td>00032f51796fd5437b238e3a9823d13d_31</td>\n",
       "      <td>traj_00032f51796fd5437b238e3a9823d13d_31_2</td>\n",
       "      <td>44497</td>\n",
       "      <td>44497</td>\n",
       "      <td>0.0</td>\n",
       "      <td>0.0</td>\n",
       "      <td>0.0</td>\n",
       "      <td>3.773199e+06</td>\n",
       "      <td>-1.914354e+07</td>\n",
       "      <td>3.773199e+06</td>\n",
       "      <td>-1.914354e+07</td>\n",
       "      <td>3.773413e+06</td>\n",
       "      <td>-1.909828e+07</td>\n",
       "    </tr>\n",
       "    <tr>\n",
       "      <th>2</th>\n",
       "      <td>00032f51796fd5437b238e3a9823d13d_31</td>\n",
       "      <td>traj_00032f51796fd5437b238e3a9823d13d_31_3</td>\n",
       "      <td>45267</td>\n",
       "      <td>47651</td>\n",
       "      <td>0.0</td>\n",
       "      <td>0.0</td>\n",
       "      <td>0.0</td>\n",
       "      <td>3.763760e+06</td>\n",
       "      <td>-1.921342e+07</td>\n",
       "      <td>3.771757e+06</td>\n",
       "      <td>-1.911092e+07</td>\n",
       "      <td>3.773199e+06</td>\n",
       "      <td>-1.914354e+07</td>\n",
       "    </tr>\n",
       "    <tr>\n",
       "      <th>3</th>\n",
       "      <td>00032f51796fd5437b238e3a9823d13d_31</td>\n",
       "      <td>traj_00032f51796fd5437b238e3a9823d13d_31_4</td>\n",
       "      <td>48333</td>\n",
       "      <td>49393</td>\n",
       "      <td>0.0</td>\n",
       "      <td>0.0</td>\n",
       "      <td>0.0</td>\n",
       "      <td>3.773385e+06</td>\n",
       "      <td>-1.911344e+07</td>\n",
       "      <td>3.773131e+06</td>\n",
       "      <td>-1.914465e+07</td>\n",
       "      <td>3.763760e+06</td>\n",
       "      <td>-1.921342e+07</td>\n",
       "    </tr>\n",
       "    <tr>\n",
       "      <th>4</th>\n",
       "      <td>00032f51796fd5437b238e3a9823d13d_31</td>\n",
       "      <td>traj_00032f51796fd5437b238e3a9823d13d_31_5</td>\n",
       "      <td>54212</td>\n",
       "      <td>54632</td>\n",
       "      <td>0.0</td>\n",
       "      <td>0.0</td>\n",
       "      <td>0.0</td>\n",
       "      <td>3.773118e+06</td>\n",
       "      <td>-1.914490e+07</td>\n",
       "      <td>NaN</td>\n",
       "      <td>NaN</td>\n",
       "      <td>3.773385e+06</td>\n",
       "      <td>-1.911344e+07</td>\n",
       "    </tr>\n",
       "  </tbody>\n",
       "</table>\n",
       "</div>"
      ],
      "text/plain": [
       "                                  hash  \\\n",
       "0  00032f51796fd5437b238e3a9823d13d_31   \n",
       "1  00032f51796fd5437b238e3a9823d13d_31   \n",
       "2  00032f51796fd5437b238e3a9823d13d_31   \n",
       "3  00032f51796fd5437b238e3a9823d13d_31   \n",
       "4  00032f51796fd5437b238e3a9823d13d_31   \n",
       "\n",
       "                                trajectory_id  time_entry  time_exit  vmax  \\\n",
       "0  traj_00032f51796fd5437b238e3a9823d13d_31_0       42197      42617   0.0   \n",
       "1  traj_00032f51796fd5437b238e3a9823d13d_31_2       44497      44497   0.0   \n",
       "2  traj_00032f51796fd5437b238e3a9823d13d_31_3       45267      47651   0.0   \n",
       "3  traj_00032f51796fd5437b238e3a9823d13d_31_4       48333      49393   0.0   \n",
       "4  traj_00032f51796fd5437b238e3a9823d13d_31_5       54212      54632   0.0   \n",
       "\n",
       "   vmin  vmean       x_entry       y_entry        x_exit        y_exit  \\\n",
       "0   0.0    0.0  3.773413e+06 -1.909828e+07  3.773111e+06 -1.914508e+07   \n",
       "1   0.0    0.0  3.773199e+06 -1.914354e+07  3.773199e+06 -1.914354e+07   \n",
       "2   0.0    0.0  3.763760e+06 -1.921342e+07  3.771757e+06 -1.911092e+07   \n",
       "3   0.0    0.0  3.773385e+06 -1.911344e+07  3.773131e+06 -1.914465e+07   \n",
       "4   0.0    0.0  3.773118e+06 -1.914490e+07           NaN           NaN   \n",
       "\n",
       "          x_req         y_req  \n",
       "0  3.773413e+06 -1.909828e+07  \n",
       "1  3.773413e+06 -1.909828e+07  \n",
       "2  3.773199e+06 -1.914354e+07  \n",
       "3  3.763760e+06 -1.921342e+07  \n",
       "4  3.773385e+06 -1.911344e+07  "
      ]
     },
     "execution_count": 4,
     "metadata": {},
     "output_type": "execute_result"
    }
   ],
   "source": [
    "test.head()"
   ]
  },
  {
   "cell_type": "code",
   "execution_count": null,
   "metadata": {},
   "outputs": [
    {
     "name": "stdout",
     "output_type": "stream",
     "text": [
      "      Iter       Train Loss   Remaining Time \n",
      "         1    77974247.6138           31.93m\n",
      "         2    76685516.4064           31.92m\n",
      "         3    75422158.0828           32.10m\n",
      "         4    74184102.6512           32.33m\n",
      "         5    72970594.2865           32.42m\n",
      "         6    71781279.6474           32.49m\n",
      "         7    70615550.8951           33.12m\n",
      "         8    69473062.8871           32.94m\n",
      "         9    68353310.3864           32.78m\n",
      "        10    67255712.2725           32.80m\n",
      "        20    57409702.1471           32.13m\n",
      "        30    49351960.3845           31.93m\n",
      "        40    42756562.2110           31.28m\n",
      "        50    37357429.7348           32.44m\n",
      "        60    32937190.2795           32.85m\n",
      "        70    29317234.4698           32.19m\n",
      "        80    26343722.3504           31.48m\n",
      "        90    23903887.6121           30.84m\n",
      "       100    21899769.4187           30.33m\n",
      "       200    13961752.8400           26.20m\n",
      "       300    12698554.6213           22.77m\n",
      "       400    12331697.1991           19.22m\n",
      "       500    12101181.4752           15.78m\n",
      "       600    11949783.2456           12.65m\n"
     ]
    }
   ],
   "source": [
    "from sklearn.ensemble import GradientBoostingRegressor\n",
    "\n",
    "x_train = train.drop(columns=['hash','trajectory_id','x_exit','y_exit'])\n",
    "x_test = test2.drop(columns=['hash','trajectory_id','x_exit','y_exit'])\n",
    "y_train=pd.DataFrame()\n",
    "y_train=train[['x_exit','y_exit']]\n",
    "\n",
    "\n",
    "model = GradientBoostingRegressor(n_estimators=1000, \n",
    "                                  learning_rate=0.01,\n",
    "                                  max_depth=5,\n",
    "                                  #min_samples_split=3 ,#2\n",
    "                                  #min_samples_leaf=2 ,#1 \n",
    "                                  random_state=1234, \n",
    "                                  loss='ls',\n",
    "                                 verbose=True,\n",
    "                                 )\n",
    "\n",
    "model.fit(x_train, y_train.x_exit.values)\n",
    "predx = model.predict(x_test)"
   ]
  },
  {
   "cell_type": "code",
   "execution_count": null,
   "metadata": {},
   "outputs": [],
   "source": [
    "model.fit(x_train, y_train.y_exit.values)\n",
    "predy = model.predict(x_test)"
   ]
  },
  {
   "cell_type": "code",
   "execution_count": null,
   "metadata": {},
   "outputs": [],
   "source": [
    "\n",
    "#pred = pd.DataFrame(data=pred,columns=['x_exit','y_exit'])\n",
    "pred = pd.DataFrame({'x_exit':predx,'y_exit':predy})"
   ]
  },
  {
   "cell_type": "code",
   "execution_count": null,
   "metadata": {},
   "outputs": [],
   "source": [
    "def within_measure(x, y):\n",
    "    #  3750901.5068 ≤ 𝑥 ≤ 3770901.5068\n",
    "    #  −19268905.6133 ≤ 𝑦 ≤ −19208905.6133\n",
    "    if 3750901.5068 <= x and x <= 3770901.5068 and -19268905.6133 <= y and y <= -19208905.6133:\n",
    "        return 1\n",
    "    else:\n",
    "        return 0\n",
    "\n",
    "X = pred['x_exit'].values \n",
    "Y = pred['y_exit'].values\n",
    "\n",
    "city = [within_measure(x, y) for x,y in zip(X,Y)]"
   ]
  },
  {
   "cell_type": "code",
   "execution_count": null,
   "metadata": {},
   "outputs": [],
   "source": [
    "submission= pd.DataFrame()\n",
    "trajectory_id = test2['trajectory_id']\n",
    "submission['id']=trajectory_id \n",
    "submission['target'] = city\n",
    "submission.to_csv('./output/submission_gradientboosting.csv',index=False)    \n",
    "submission[:20]"
   ]
  },
  {
   "cell_type": "code",
   "execution_count": null,
   "metadata": {},
   "outputs": [],
   "source": [
    "min(city)"
   ]
  },
  {
   "cell_type": "code",
   "execution_count": null,
   "metadata": {},
   "outputs": [],
   "source": [
    "max(city)"
   ]
  },
  {
   "cell_type": "code",
   "execution_count": null,
   "metadata": {},
   "outputs": [],
   "source": []
  }
 ],
 "metadata": {
  "kernelspec": {
   "display_name": "Python 3",
   "language": "python",
   "name": "python3"
  },
  "language_info": {
   "codemirror_mode": {
    "name": "ipython",
    "version": 3
   },
   "file_extension": ".py",
   "mimetype": "text/x-python",
   "name": "python",
   "nbconvert_exporter": "python",
   "pygments_lexer": "ipython3",
   "version": "3.7.1"
  }
 },
 "nbformat": 4,
 "nbformat_minor": 2
}
