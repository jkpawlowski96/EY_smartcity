{
 "cells": [
  {
   "cell_type": "code",
   "execution_count": 1,
   "metadata": {},
   "outputs": [],
   "source": [
    "import pandas as pd\n",
    "import numpy as np\n",
    "import datetime"
   ]
  },
  {
   "cell_type": "code",
   "execution_count": 2,
   "metadata": {},
   "outputs": [],
   "source": [
    "d={\n",
    "    'hash'          :'category',\n",
    "    'trajectory_id' :'category',\n",
    "    'time_entry'    :'category',\n",
    "    'time_exit'    :'category',\n",
    "    'vmax':'float64',\n",
    "    'vmin':'float64',\n",
    "    'vmean':'float64',\n",
    "    'x_entry':'float64',\n",
    "    'y_entry':'float64',\n",
    "    'x_exit':'float64',\n",
    "    'y_exit':'float64'\n",
    "}\n",
    "\n",
    "train = pd.read_csv('./input/data_train.csv',\n",
    "                    #nrows=10,\n",
    "                    dtype=d).drop(columns=['Unnamed: 0'])\n",
    "test = pd.read_csv('./input/data_test.csv',\n",
    "                   #nrows=10,\n",
    "                   dtype=d).drop(columns=['Unnamed: 0'])"
   ]
  },
  {
   "cell_type": "code",
   "execution_count": 3,
   "metadata": {},
   "outputs": [],
   "source": [
    "\"\"\"\n",
    "X = train['x_exit'].values \n",
    "Y = train['y_exit'].values\n",
    "train.drop(columns=['x_exit','y_exit'],inplace=True)\n",
    "test = test2\n",
    "test.drop(columns=['x_exit','y_exit'],inplace=True)\n",
    "\n",
    "city = [within_measure(x, y) for x,y in zip(X,Y)]\n",
    "\"\"\"\n",
    "y_train=pd.DataFrame() \n",
    "y_train['x_exit']= train['x_exit']\n",
    "y_train['y_exit']= train['y_exit']\n",
    "y_train.to_csv('./output/y_train.csv',index=False) \n",
    "y_train=pd.DataFrame() \n",
    "y_train['x_exit']= test['x_exit']\n",
    "y_train['y_exit']= test['y_exit']\n",
    "\n",
    "y_train.to_csv('./output/y_test.csv',index=False) \n"
   ]
  }
 ],
 "metadata": {
  "kernelspec": {
   "display_name": "Python 3",
   "language": "python",
   "name": "python3"
  },
  "language_info": {
   "codemirror_mode": {
    "name": "ipython",
    "version": 3
   },
   "file_extension": ".py",
   "mimetype": "text/x-python",
   "name": "python",
   "nbconvert_exporter": "python",
   "pygments_lexer": "ipython3",
   "version": "3.7.1"
  }
 },
 "nbformat": 4,
 "nbformat_minor": 2
}
