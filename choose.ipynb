{
 "cells": [
  {
   "cell_type": "code",
   "execution_count": 2,
   "metadata": {},
   "outputs": [],
   "source": [
    "import pandas as pd\n",
    "import numpy as np\n",
    "from sklearn.metrics.pairwise import cosine_similarity"
   ]
  },
  {
   "cell_type": "code",
   "execution_count": 3,
   "metadata": {},
   "outputs": [],
   "source": [
    "data = pd.read_csv('./output/submission/lgbm_blended_2.csv')\n",
    "best = data.target.values"
   ]
  },
  {
   "cell_type": "code",
   "execution_count": 4,
   "metadata": {},
   "outputs": [
    {
     "data": {
      "text/plain": [
       "array([0, 0, 1, ..., 0, 0, 0], dtype=int64)"
      ]
     },
     "execution_count": 4,
     "metadata": {},
     "output_type": "execute_result"
    }
   ],
   "source": [
    "best"
   ]
  },
  {
   "cell_type": "code",
   "execution_count": 18,
   "metadata": {},
   "outputs": [],
   "source": [
    "preds = []\n",
    "paths=['./output/submission/lgbm_800.csv',\n",
    "       './output/submission/lgbm_blended_2.csv',\n",
    "              './output/10/bb.csv',\n",
    "\n",
    "       './output/10/proba.csv',\n",
    "       './output/10/proba_blend.csv',\n",
    "       './output/10/blend_bin1.csv',\n",
    "       './output/10/blend_bin2.csv',\n",
    "       './output/10/blend_bin3.csv',\n",
    "       './output/10/blend_bin4.csv',\n",
    "       './output/10/blend_bin5.csv',\n",
    "       './output/10/blend800_bin1.csv',\n",
    "       './output/10/blend800_bin2.csv',\n",
    "       './output/10/blend800_bin3.csv',\n",
    "       './output/10/blend800_bin4.csv',\n",
    "       './output/10/blend800_bin5.csv',\n",
    "       './output/10/blend2_bin1.csv',\n",
    "       './output/10/blend2_bin2.csv',\n",
    "       './output/10/blend2_bin3.csv',\n",
    "       './output/10/blend2_bin4.csv',\n",
    "       './output/10/blend2_bin5.csv',\n",
    "       './output/10/blend2_bin6.csv',\n",
    "       './output/submission/blendzior1.csv',\n",
    "       './output/submission/blendzior.csv'\n",
    "\n",
    "      ]\n",
    "for path in paths:\n",
    "    data = pd.read_csv(path)\n",
    "    data = data.target.values\n",
    "    preds.append(data)\n",
    "    "
   ]
  },
  {
   "cell_type": "code",
   "execution_count": 19,
   "metadata": {},
   "outputs": [
    {
     "name": "stdout",
     "output_type": "stream",
     "text": [
      "./output/submission/lgbm_800.csv cov: 0.1863924068917785\n",
      "./output/submission/lgbm_blended_2.csv cov: 0.19233553988196994\n",
      "./output/10/bb.csv cov: 0.19146713786363673\n",
      "./output/10/proba.csv cov: 0.18233910560720917\n",
      "./output/10/proba_blend.csv cov: 0.19233553988196994\n",
      "./output/10/blend_bin1.csv cov: 0.189296132817803\n",
      "./output/10/blend_bin2.csv cov: 0.189296132817803\n",
      "./output/10/blend_bin3.csv cov: 0.1867853595885354\n",
      "./output/10/blend_bin4.csv cov: 0.1867853595885354\n",
      "./output/10/blend_bin5.csv cov: 0.18578335883482877\n",
      "./output/10/blend800_bin1.csv cov: 0.18726316552410635\n",
      "./output/10/blend800_bin2.csv cov: 0.18726316552410635\n",
      "./output/10/blend800_bin3.csv cov: 0.18616698834996653\n",
      "./output/10/blend800_bin4.csv cov: 0.18616698834996653\n",
      "./output/10/blend800_bin5.csv cov: 0.18535599619063678\n",
      "./output/10/blend2_bin1.csv cov: 0.18927287204945473\n",
      "./output/10/blend2_bin2.csv cov: 0.18927287204945473\n",
      "./output/10/blend2_bin3.csv cov: 0.18844171112041633\n",
      "./output/10/blend2_bin4.csv cov: 0.18844171112041633\n",
      "./output/10/blend2_bin5.csv cov: 0.18672524679032398\n",
      "./output/10/blend2_bin6.csv cov: 0.1877843965462532\n",
      "./output/submission/blendzior1.csv cov: 0.19228901834527323\n",
      "./output/submission/blendzior.csv cov: 0.19228901834527323\n"
     ]
    }
   ],
   "source": [
    "covs=[]\n",
    "for path, pred in zip(paths,preds):\n",
    "    x=np.cov(best,pred)[0,1]\n",
    "    covs.append(x)\n",
    "    print(path,'cov:',x)"
   ]
  },
  {
   "cell_type": "code",
   "execution_count": 7,
   "metadata": {
    "scrolled": false
   },
   "outputs": [
    {
     "data": {
      "text/plain": [
       "<Figure size 1600x1000 with 1 Axes>"
      ]
     },
     "metadata": {},
     "output_type": "display_data"
    }
   ],
   "source": [
    "import matplotlib.pyplot as plt\n",
    "import matplotlib.patches as patches\n",
    "\n",
    "fig, ax = plt.subplots()\n",
    "fig.set_figheight(10)\n",
    "fig.set_figwidth(16)\n",
    "\n",
    "\n",
    "# Plot\n",
    "for i in range(len(preds)):\n",
    "    ax.bar(x=i,height=covs[i],label=paths[i])\n",
    "    \n",
    "ax.set_ylim(min(covs)-0.001,max(covs)+0.001)\n",
    "ax.set(xlabel='files', ylabel='cov',\n",
    "       title='Cov to best')\n",
    "ax.legend(loc=\"upper left\", markerscale=2, scatterpoints=1, fontsize=10)\n",
    "plt.show()"
   ]
  },
  {
   "cell_type": "code",
   "execution_count": 17,
   "metadata": {},
   "outputs": [
    {
     "data": {
      "text/html": [
       "<div>\n",
       "<style scoped>\n",
       "    .dataframe tbody tr th:only-of-type {\n",
       "        vertical-align: middle;\n",
       "    }\n",
       "\n",
       "    .dataframe tbody tr th {\n",
       "        vertical-align: top;\n",
       "    }\n",
       "\n",
       "    .dataframe thead th {\n",
       "        text-align: right;\n",
       "    }\n",
       "</style>\n",
       "<table border=\"1\" class=\"dataframe\">\n",
       "  <thead>\n",
       "    <tr style=\"text-align: right;\">\n",
       "      <th></th>\n",
       "      <th>id</th>\n",
       "      <th>target</th>\n",
       "    </tr>\n",
       "  </thead>\n",
       "  <tbody>\n",
       "    <tr>\n",
       "      <th>0</th>\n",
       "      <td>traj_00032f51796fd5437b238e3a9823d13d_31_5</td>\n",
       "      <td>0</td>\n",
       "    </tr>\n",
       "    <tr>\n",
       "      <th>1</th>\n",
       "      <td>traj_000479418b5561ab694a2870cc04fd43_25_10</td>\n",
       "      <td>0</td>\n",
       "    </tr>\n",
       "    <tr>\n",
       "      <th>2</th>\n",
       "      <td>traj_000506a39775e5bca661ac80e3f466eb_29_5</td>\n",
       "      <td>1</td>\n",
       "    </tr>\n",
       "    <tr>\n",
       "      <th>3</th>\n",
       "      <td>traj_0005401ceddaf27a9b7f0d42ef1fbe95_1_4</td>\n",
       "      <td>0</td>\n",
       "    </tr>\n",
       "    <tr>\n",
       "      <th>4</th>\n",
       "      <td>traj_00063a4f6c12e1e4de7d876580620667_3_4</td>\n",
       "      <td>0</td>\n",
       "    </tr>\n",
       "    <tr>\n",
       "      <th>5</th>\n",
       "      <td>traj_0006535be25bb52dd06983447880c964_5_12</td>\n",
       "      <td>0</td>\n",
       "    </tr>\n",
       "    <tr>\n",
       "      <th>6</th>\n",
       "      <td>traj_0006f84bb33ec929d1cda7686f861d0a_31_3</td>\n",
       "      <td>1</td>\n",
       "    </tr>\n",
       "    <tr>\n",
       "      <th>7</th>\n",
       "      <td>traj_00093ae562586aed0e053b8431e8ace4_23_10</td>\n",
       "      <td>0</td>\n",
       "    </tr>\n",
       "    <tr>\n",
       "      <th>8</th>\n",
       "      <td>traj_000c739e444a70e1804d757a0580caaa_31_3</td>\n",
       "      <td>1</td>\n",
       "    </tr>\n",
       "    <tr>\n",
       "      <th>9</th>\n",
       "      <td>traj_000d479078af08618bddc7f09082b8c3_11_6</td>\n",
       "      <td>0</td>\n",
       "    </tr>\n",
       "    <tr>\n",
       "      <th>10</th>\n",
       "      <td>traj_000d6fba12a7d06defe90e3c9162c11e_29_11</td>\n",
       "      <td>1</td>\n",
       "    </tr>\n",
       "    <tr>\n",
       "      <th>11</th>\n",
       "      <td>traj_000efd6f95db39d6ba35027f02b5628f_9_20</td>\n",
       "      <td>1</td>\n",
       "    </tr>\n",
       "    <tr>\n",
       "      <th>12</th>\n",
       "      <td>traj_000feace3a33be9245e2783cdff467a8_15_12</td>\n",
       "      <td>0</td>\n",
       "    </tr>\n",
       "    <tr>\n",
       "      <th>13</th>\n",
       "      <td>traj_0011b48d0cf4f962833edd701afaf419_3_7</td>\n",
       "      <td>0</td>\n",
       "    </tr>\n",
       "    <tr>\n",
       "      <th>14</th>\n",
       "      <td>traj_001484cf0f956c316070be4b4c6352ff_29_7</td>\n",
       "      <td>0</td>\n",
       "    </tr>\n",
       "    <tr>\n",
       "      <th>15</th>\n",
       "      <td>traj_001d29060cfe35996cfeb141210ecbeb_9_2</td>\n",
       "      <td>1</td>\n",
       "    </tr>\n",
       "    <tr>\n",
       "      <th>16</th>\n",
       "      <td>traj_001dff40eab7eea1c10d0fadcea0c779_9_7</td>\n",
       "      <td>0</td>\n",
       "    </tr>\n",
       "    <tr>\n",
       "      <th>17</th>\n",
       "      <td>traj_001f9345a2979c553125c65499630f25_29_3</td>\n",
       "      <td>0</td>\n",
       "    </tr>\n",
       "    <tr>\n",
       "      <th>18</th>\n",
       "      <td>traj_002447d99e8f6c3bc6c1329140979a91_25_7</td>\n",
       "      <td>0</td>\n",
       "    </tr>\n",
       "    <tr>\n",
       "      <th>19</th>\n",
       "      <td>traj_002531dea45cd4059e92099630ebf775_3_10</td>\n",
       "      <td>0</td>\n",
       "    </tr>\n",
       "  </tbody>\n",
       "</table>\n",
       "</div>"
      ],
      "text/plain": [
       "                                             id  target\n",
       "0    traj_00032f51796fd5437b238e3a9823d13d_31_5       0\n",
       "1   traj_000479418b5561ab694a2870cc04fd43_25_10       0\n",
       "2    traj_000506a39775e5bca661ac80e3f466eb_29_5       1\n",
       "3     traj_0005401ceddaf27a9b7f0d42ef1fbe95_1_4       0\n",
       "4     traj_00063a4f6c12e1e4de7d876580620667_3_4       0\n",
       "5    traj_0006535be25bb52dd06983447880c964_5_12       0\n",
       "6    traj_0006f84bb33ec929d1cda7686f861d0a_31_3       1\n",
       "7   traj_00093ae562586aed0e053b8431e8ace4_23_10       0\n",
       "8    traj_000c739e444a70e1804d757a0580caaa_31_3       1\n",
       "9    traj_000d479078af08618bddc7f09082b8c3_11_6       0\n",
       "10  traj_000d6fba12a7d06defe90e3c9162c11e_29_11       1\n",
       "11   traj_000efd6f95db39d6ba35027f02b5628f_9_20       1\n",
       "12  traj_000feace3a33be9245e2783cdff467a8_15_12       0\n",
       "13    traj_0011b48d0cf4f962833edd701afaf419_3_7       0\n",
       "14   traj_001484cf0f956c316070be4b4c6352ff_29_7       0\n",
       "15    traj_001d29060cfe35996cfeb141210ecbeb_9_2       1\n",
       "16    traj_001dff40eab7eea1c10d0fadcea0c779_9_7       0\n",
       "17   traj_001f9345a2979c553125c65499630f25_29_3       0\n",
       "18   traj_002447d99e8f6c3bc6c1329140979a91_25_7       0\n",
       "19   traj_002531dea45cd4059e92099630ebf775_3_10       0"
      ]
     },
     "execution_count": 17,
     "metadata": {},
     "output_type": "execute_result"
    }
   ],
   "source": [
    "best1 = pd.read_csv('./output/submission/lgbm_800.csv').target.values\n",
    "best2 = pd.read_csv('./output/submission/lgbm_blended_2.csv').target.values\n",
    "\n",
    "city = pd.DataFrame()\n",
    "city['1']=best1\n",
    "city['2']=best2\n",
    "city['target']=np.zeros(len(city))\n",
    "for col in city.columns:\n",
    "    city['target']=city['target']+city[col]\n",
    "\n",
    "def fnc(x):\n",
    "    if x>=2:\n",
    "        return 1\n",
    "    else:\n",
    "        return 0\n",
    "city=[fnc(x) for x in city.target.values]\n",
    "\n",
    "submission= pd.DataFrame()\n",
    "submission['id']=pd.read_csv('./output/submission/lgbm_800.csv').id.values\n",
    "submission['target'] = city\n",
    "submission.to_csv('./output/submission/blendzior.csv',index=False)    \n",
    "submission[:20]"
   ]
  },
  {
   "cell_type": "code",
   "execution_count": null,
   "metadata": {},
   "outputs": [],
   "source": []
  }
 ],
 "metadata": {
  "kernelspec": {
   "display_name": "Python 3",
   "language": "python",
   "name": "python3"
  },
  "language_info": {
   "codemirror_mode": {
    "name": "ipython",
    "version": 3
   },
   "file_extension": ".py",
   "mimetype": "text/x-python",
   "name": "python",
   "nbconvert_exporter": "python",
   "pygments_lexer": "ipython3",
   "version": "3.7.1"
  }
 },
 "nbformat": 4,
 "nbformat_minor": 2
}
