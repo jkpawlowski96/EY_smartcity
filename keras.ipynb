{
 "cells": [
  {
   "cell_type": "code",
   "execution_count": 1,
   "metadata": {},
   "outputs": [],
   "source": [
    "import pandas as pd\n",
    "import numpy as np\n",
    "import datetime\n"
   ]
  },
  {
   "cell_type": "code",
   "execution_count": 2,
   "metadata": {},
   "outputs": [],
   "source": [
    "train = pd.read_csv('./output/train.csv')    \n",
    "test = pd.read_csv('./output/test.csv')    \n",
    "test2 = pd.read_csv('./output/test2.csv')\n",
    "\n",
    "def within_measure(x, y):\n",
    "    #  3750901.5068 ≤ 𝑥 ≤ 3770901.5068\n",
    "    #  −19268905.6133 ≤ 𝑦 ≤ −19208905.6133\n",
    "    if 3750901.5068 <= x and x <= 3770901.5068 and -19268905.6133 <= y and y <= -19208905.6133:\n",
    "        return 1\n",
    "    else:\n",
    "        return 0\n",
    "\n",
    "train = train.append(test[test.x_exit==test.x_exit])\n",
    "cols=['hash','trajectory_id','x_exit','y_exit',\n",
    "      #'distance_to_city'\n",
    "     ]   \n",
    "x_train = train[['x_entry','y_entry']]\n",
    "x_test = test2[['x_entry','y_entry']]\n",
    "\n",
    "\n",
    "\n",
    "y_train=pd.DataFrame()\n",
    "\n",
    "y_train['x_exit']=train['x_exit']\n",
    "y_train['y_exit']=train['y_exit']"
   ]
  },
  {
   "cell_type": "code",
   "execution_count": 3,
   "metadata": {},
   "outputs": [
    {
     "name": "stdout",
     "output_type": "stream",
     "text": [
      "<class 'pandas.core.frame.DataFrame'>\n",
      "Int64Index: 983684 entries, 0 to 202935\n",
      "Data columns (total 2 columns):\n",
      "x_exit    983684 non-null float64\n",
      "y_exit    983684 non-null float64\n",
      "dtypes: float64(2)\n",
      "memory usage: 22.5 MB\n"
     ]
    }
   ],
   "source": [
    "y_train.info()"
   ]
  },
  {
   "cell_type": "code",
   "execution_count": null,
   "metadata": {},
   "outputs": [
    {
     "name": "stdout",
     "output_type": "stream",
     "text": [
      "<class 'pandas.core.frame.DataFrame'>\n",
      "Int64Index: 983684 entries, 0 to 202935\n",
      "Data columns (total 28 columns):\n",
      "hash                983684 non-null object\n",
      "trajectory_id       983684 non-null object\n",
      "time_entry          983684 non-null int64\n",
      "time_exit           983684 non-null int64\n",
      "vmax                983684 non-null float64\n",
      "vmin                983684 non-null float64\n",
      "vmean               983684 non-null float64\n",
      "x_entry             983684 non-null float64\n",
      "y_entry             983684 non-null float64\n",
      "x_exit              983684 non-null float64\n",
      "y_exit              983684 non-null float64\n",
      "first               983684 non-null bool\n",
      "last                983684 non-null bool\n",
      "x_req               983684 non-null float64\n",
      "y_req               983684 non-null float64\n",
      "x_start             983684 non-null float64\n",
      "y_start             983684 non-null float64\n",
      "distance            983684 non-null float64\n",
      "time_start          983684 non-null int64\n",
      "time_delta          983684 non-null int64\n",
      "time_total          983684 non-null int64\n",
      "city_start          983684 non-null int64\n",
      "city_now            983684 non-null int64\n",
      "city_was            983684 non-null int64\n",
      "x_dir               983684 non-null float64\n",
      "y_dir               983684 non-null float64\n",
      "len                 983684 non-null int64\n",
      "distance_to_city    983684 non-null float64\n",
      "dtypes: bool(2), float64(15), int64(9), object(2)\n",
      "memory usage: 204.5+ MB\n"
     ]
    }
   ],
   "source": [
    "train.info()"
   ]
  },
  {
   "cell_type": "code",
   "execution_count": null,
   "metadata": {},
   "outputs": [
    {
     "name": "stderr",
     "output_type": "stream",
     "text": [
      "Using TensorFlow backend.\n"
     ]
    },
    {
     "name": "stdout",
     "output_type": "stream",
     "text": [
      "WARNING:tensorflow:From D:\\Anaconda\\lib\\site-packages\\tensorflow\\python\\framework\\op_def_library.py:263: colocate_with (from tensorflow.python.framework.ops) is deprecated and will be removed in a future version.\n",
      "Instructions for updating:\n",
      "Colocations handled automatically by placer.\n",
      "WARNING:tensorflow:From D:\\Anaconda\\lib\\site-packages\\tensorflow\\python\\ops\\math_ops.py:3066: to_int32 (from tensorflow.python.ops.math_ops) is deprecated and will be removed in a future version.\n",
      "Instructions for updating:\n",
      "Use tf.cast instead.\n",
      "Epoch 1/10\n",
      "953600/983684 [============================>.] - ETA: 19s - loss: 191812746564163.5000 - mean_absolute_error: 11491127.8992"
     ]
    }
   ],
   "source": [
    "from keras.models import Sequential\n",
    "\n",
    "model = Sequential()\n",
    "from keras.layers import Dense\n",
    "\n",
    "model.add(Dense(units=1000, activation='relu', input_dim=np.shape(x_train)[1]))\n",
    "model.add(Dense(units=1000, activation='relu'))\n",
    "model.add(Dense(units=1000, activation='relu'))\n",
    "\n",
    "model.add(Dense(units=2, activation='softmax'))\n",
    "\n",
    "model.compile(loss='mean_squared_error',\n",
    "              optimizer='adam',\n",
    "              metrics=['mean_absolute_error'])\n",
    "\n",
    "\n",
    "devide_clusters = False\n",
    "\n",
    "def naklastry():\n",
    "    pred = pd.DataFrame({'c':test2_c,'target':test2_c})\n",
    "\n",
    "    for c in labels:\n",
    "        xc_train=x_train[train_c==c]\n",
    "        yc_train=y_train[train_c==c][unnown].values\n",
    "        xc_test=x_test[test2_c==c]\n",
    "        if len(xc_test)==0:\n",
    "            continue\n",
    "        print(len(xc_train),len(xc_test))\n",
    "        d_train = lgb.Dataset(xc_train, label=yc_train)\n",
    "        clf = lgb.train(params, d_train)\n",
    "        \n",
    "        #Prediction\n",
    "        def add(row,c):\n",
    "            if row['c']==c:\n",
    "                return target.pop(0)\n",
    "            else:\n",
    "                return row.target\n",
    "            \n",
    "        target=list(clf.predict(xc_test))\n",
    "        pred['target'] = pred.apply(lambda x: add(x,c), axis=1)\n",
    "                 \n",
    "        print('done:',c)\n",
    "    return pred.target.values\n",
    "\n",
    "def jedna(t = False):\n",
    "    # batch_size=500\n",
    "    model.fit(x_train, y_train.values, epochs=10,verbose=True)\n",
    "    \n",
    "    #Prediction    \n",
    "    target=list(model.predict(x_test))\n",
    "    \n",
    "    #print('Train Evaluation:',model.evaluate(x_train, y_train.values))\n",
    "    if t==True:\n",
    "        target2=list(model.predict(x_train))\n",
    "        return target, target2\n",
    "\n",
    "    return target\n",
    "  \n",
    "        \n",
    "city_lgbm_c=pd.DataFrame()\n",
    "city_lgbm=pd.DataFrame()\n",
    "\n",
    "if devide_clusters:\n",
    "    result = naklastry()\n",
    "    result = np.array(result)\n",
    "    city_lgbm_c['x_exit']=result[:,0]\n",
    "    city_lgbm_c['y_exit']=result[:,1]\n",
    "    \n",
    "result = jedna(t=False)   \n",
    "result = np.array(result)\n",
    "city_lgbm['x_exit']=result[:,0]\n",
    "city_lgbm['y_exit']=result[:,1]"
   ]
  },
  {
   "cell_type": "code",
   "execution_count": null,
   "metadata": {},
   "outputs": [],
   "source": [
    "import statistics\n",
    "X = test2['x_entry'].values \n",
    "Y = test2['y_entry'].values\n",
    "\n",
    "def score(x):\n",
    "    if x>=0.5:\n",
    "        return 1\n",
    "    else:\n",
    "        return 0\n",
    "\n",
    "\n",
    "\n",
    "city_lgbm['target'] = [within_measure(x, y) for x,y in zip(city_lgbm.x_exit.values,city_lgbm.y_exit.values)]\n",
    "\n"
   ]
  },
  {
   "cell_type": "code",
   "execution_count": null,
   "metadata": {},
   "outputs": [],
   "source": [
    "\n",
    "\n",
    "\n",
    "#city = [score(statistics.mean(k)) for k in zip(city_lgbm_c.target.values,city_lgbm.target.values)]\n",
    "\n",
    "\n",
    "\n",
    "submission= pd.DataFrame()\n",
    "trajectory_id = test2['trajectory_id']\n",
    "submission['id']=trajectory_id \n",
    "submission['target'] = city_lgbm.target\n",
    "submission.to_csv('./output/nn/lgbm.csv',index=False)    \n",
    "\n"
   ]
  },
  {
   "cell_type": "code",
   "execution_count": null,
   "metadata": {
    "scrolled": false
   },
   "outputs": [],
   "source": [
    "def plotmap(ycity,title):\n",
    "    fig, ax = plt.subplots()\n",
    "    fig.set_figheight(10)\n",
    "    fig.set_figwidth(16)\n",
    "\n",
    "    df=test2[['x_entry','y_entry']]\n",
    "    df['sqrt']=city_sqrt\n",
    "    df['target']=ycity\n",
    "    df=df[df.sqrt==0]\n",
    "    leg=['Outside','City']\n",
    "    # Plot\n",
    "    for data in [df[df.target==1]]:\n",
    "        ax.scatter(data.x_entry.values, data.y_entry.values,c='r',s=10, alpha=0.5,label=leg.pop(0))\n",
    "\n",
    "    # Create a Rectangle patch\n",
    "    rect = patches.Rectangle((3750901.5068,-19268905.6133),3770901.5068-3750901.5068,19268905.6133-19208905.6133,linewidth=2,edgecolor='y',facecolor='none')\n",
    "\n",
    "    # Add the patch to the Axes\n",
    "    ax.add_patch(rect)    \n",
    "\n",
    "    ax.set(xlabel='x', ylabel='y',\n",
    "           title=title)\n",
    "    ax.legend(loc=\"upper left\", markerscale=2, scatterpoints=1, fontsize=10)\n",
    "    plt.show()"
   ]
  },
  {
   "cell_type": "code",
   "execution_count": null,
   "metadata": {},
   "outputs": [],
   "source": [
    "plotmap(city_lgbm.target.values,'One LGBM')"
   ]
  },
  {
   "cell_type": "code",
   "execution_count": null,
   "metadata": {},
   "outputs": [],
   "source": [
    "if devide_clusters:\n",
    "    plotmap(city_lgbm_c.target.values,'Clusters LGBM')"
   ]
  },
  {
   "cell_type": "code",
   "execution_count": null,
   "metadata": {},
   "outputs": [],
   "source": [
    "if devide_clusters:\n",
    "    plotmap(city.target.values,'Submission outside the sqrt')"
   ]
  },
  {
   "cell_type": "code",
   "execution_count": null,
   "metadata": {},
   "outputs": [],
   "source": []
  },
  {
   "cell_type": "code",
   "execution_count": null,
   "metadata": {},
   "outputs": [],
   "source": []
  }
 ],
 "metadata": {
  "kernelspec": {
   "display_name": "Python 3",
   "language": "python",
   "name": "python3"
  },
  "language_info": {
   "codemirror_mode": {
    "name": "ipython",
    "version": 3
   },
   "file_extension": ".py",
   "mimetype": "text/x-python",
   "name": "python",
   "nbconvert_exporter": "python",
   "pygments_lexer": "ipython3",
   "version": "3.7.1"
  }
 },
 "nbformat": 4,
 "nbformat_minor": 2
}
