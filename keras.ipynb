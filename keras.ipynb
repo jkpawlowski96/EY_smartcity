{
 "cells": [
  {
   "cell_type": "code",
   "execution_count": 1,
   "metadata": {},
   "outputs": [],
   "source": [
    "import pandas as pd\n",
    "import numpy as np\n",
    "import datetime\n",
    "import matplotlib.pyplot as plt\n",
    "import matplotlib.patches as patches"
   ]
  },
  {
   "cell_type": "code",
   "execution_count": 2,
   "metadata": {},
   "outputs": [],
   "source": [
    "train = pd.read_csv('./output/train.csv',nrows=50000)    \n",
    "test = pd.read_csv('./output/test.csv')    \n",
    "test2 = pd.read_csv('./output/test2.csv')\n",
    "\n",
    "def within_measure(x, y):\n",
    "    #  3750901.5068 ≤ 𝑥 ≤ 3770901.5068\n",
    "    #  −19268905.6133 ≤ 𝑦 ≤ −19208905.6133\n",
    "    if 3750901.5068 <= x and x <= 3770901.5068 and -19268905.6133 <= y and y <= -19208905.6133:\n",
    "        return 1\n",
    "    else:\n",
    "        return 0\n",
    "\n",
    "train = train.append(test[test.x_exit==test.x_exit])\n",
    "columns=[#'hash', 'trajectory_id', \n",
    "         'time_entry', 'time_exit', 'vmax', 'vmin',\n",
    "       'vmean', 'x_entry', 'y_entry', 'first', 'last',\n",
    "       'x_req', 'y_req', 'x_start', 'y_start', 'distance', 'time_start',\n",
    "       'time_delta', 'time_total', 'city_start', 'city_now', 'city_was',\n",
    "       'x_dir', 'y_dir', 'len',\n",
    "         'distance_to_city', 'speed',\n",
    "        #'x_exit', 'y_exit', \n",
    "        ]\n",
    "x_train = train[columns]\n",
    "x_test = test2[columns]\n",
    "\n",
    "\n",
    "\n",
    "\n",
    "y_train=pd.DataFrame()\n",
    "\n",
    "y_train['x_exit']=train['x_exit']\n",
    "y_train['y_exit']=train['y_exit']"
   ]
  },
  {
   "cell_type": "code",
   "execution_count": 3,
   "metadata": {},
   "outputs": [
    {
     "name": "stdout",
     "output_type": "stream",
     "text": [
      "<class 'pandas.core.frame.DataFrame'>\n",
      "Int64Index: 219422 entries, 0 to 202935\n",
      "Data columns (total 2 columns):\n",
      "x_exit    219422 non-null float64\n",
      "y_exit    219422 non-null float64\n",
      "dtypes: float64(2)\n",
      "memory usage: 5.0 MB\n"
     ]
    }
   ],
   "source": [
    "y_train.info()"
   ]
  },
  {
   "cell_type": "code",
   "execution_count": 4,
   "metadata": {},
   "outputs": [
    {
     "name": "stdout",
     "output_type": "stream",
     "text": [
      "<class 'pandas.core.frame.DataFrame'>\n",
      "Int64Index: 219422 entries, 0 to 202935\n",
      "Data columns (total 29 columns):\n",
      "hash                219422 non-null object\n",
      "trajectory_id       219422 non-null object\n",
      "time_entry          219422 non-null int64\n",
      "time_exit           219422 non-null int64\n",
      "vmax                70199 non-null float64\n",
      "vmin                70199 non-null float64\n",
      "vmean               73673 non-null float64\n",
      "x_entry             219422 non-null float64\n",
      "y_entry             219422 non-null float64\n",
      "x_exit              219422 non-null float64\n",
      "y_exit              219422 non-null float64\n",
      "first               219422 non-null bool\n",
      "last                219422 non-null bool\n",
      "x_req               219422 non-null float64\n",
      "y_req               219422 non-null float64\n",
      "x_start             219422 non-null float64\n",
      "y_start             219422 non-null float64\n",
      "distance            219422 non-null float64\n",
      "time_start          219422 non-null int64\n",
      "time_delta          219422 non-null int64\n",
      "time_total          219422 non-null int64\n",
      "city_start          219422 non-null bool\n",
      "city_now            219422 non-null bool\n",
      "city_was            219422 non-null bool\n",
      "x_dir               219422 non-null float64\n",
      "y_dir               219422 non-null float64\n",
      "len                 219422 non-null int64\n",
      "distance_to_city    219422 non-null float64\n",
      "speed               177513 non-null float64\n",
      "dtypes: bool(5), float64(16), int64(6), object(2)\n",
      "memory usage: 42.9+ MB\n"
     ]
    }
   ],
   "source": [
    "train.info()"
   ]
  },
  {
   "cell_type": "code",
   "execution_count": null,
   "metadata": {},
   "outputs": [
    {
     "name": "stderr",
     "output_type": "stream",
     "text": [
      "Using TensorFlow backend.\n"
     ]
    },
    {
     "name": "stdout",
     "output_type": "stream",
     "text": [
      "WARNING:tensorflow:From D:\\Anaconda\\lib\\site-packages\\tensorflow\\python\\framework\\op_def_library.py:263: colocate_with (from tensorflow.python.framework.ops) is deprecated and will be removed in a future version.\n",
      "Instructions for updating:\n",
      "Colocations handled automatically by placer.\n",
      "WARNING:tensorflow:From D:\\Anaconda\\lib\\site-packages\\tensorflow\\python\\ops\\math_ops.py:3066: to_int32 (from tensorflow.python.ops.math_ops) is deprecated and will be removed in a future version.\n",
      "Instructions for updating:\n",
      "Use tf.cast instead.\n",
      "Epoch 1/10\n",
      "219422/219422 [==============================] - 112s 510us/step - loss: nan - mean_squared_error: nan - loss: n\n",
      "Epoch 2/10\n",
      "219422/219422 [==============================] - 111s 505us/step - loss: nan - mean_squared_error: nan\n",
      "Epoch 3/10\n",
      "219422/219422 [==============================] - 106s 482us/step - loss: nan - mean_squared_error: nan\n",
      "Epoch 4/10\n",
      "107264/219422 [=============>................] - ETA: 55s - loss: nan - mean_squared_error: nan"
     ]
    }
   ],
   "source": [
    "from keras.models import Sequential\n",
    "from keras.layers import SimpleRNN\n",
    "from keras.layers import LSTM\n",
    "model = Sequential()\n",
    "from keras.layers import Dense\n",
    "\n",
    "X_train = np.reshape(x_train.values, x_train.values.shape + (1,))\n",
    "X_test = np.reshape(x_test.values, x_test.values.shape + (1,))\n",
    "\n",
    "size_nn = np.shape(x_train)[1]\n",
    "\n",
    "model.add(LSTM(10, input_shape=X_train.shape[1:]))\n",
    "#model.add(Dense(units=50, activation='relu', input_dim=size_nn))\n",
    "model.add(Dense(units=100, activation='relu'))\n",
    "#model.add(Dense(units=1000, activation='relu'))\n",
    "#model.add(SimpleRNN( units=10, activation='tanh', \n",
    "\n",
    "model.add(Dense(units=2, activation='softmax'))\n",
    "\n",
    "from keras import optimizers\n",
    "\n",
    "sgd = optimizers.SGD(lr=0.1, clipnorm=1.)\n",
    "\n",
    "model.compile(loss='mean_squared_error',\n",
    "              optimizer=sgd,\n",
    "              metrics=['mean_squared_error'],\n",
    "             )\n",
    "\n",
    "\n",
    "devide_clusters = False\n",
    "\n",
    "\n",
    "def nn():\n",
    "    # batch_size=500\n",
    "    \n",
    "    #trainX = numpy.reshape(trainX, (trainX.shape[0], 1, trainX.shape[1]))\n",
    "    #testX = numpy.reshape(testX, (testX.shape[0], 1, testX.shape[1]))\n",
    "    \n",
    "    model.fit(X_train, y_train.values, batch_size=32, epochs=10,verbose=True)\n",
    "    \n",
    "    #Prediction    \n",
    "    target=list(model.predict(X_test))\n",
    "    \n",
    "    #print('Train Evaluation:',model.evaluate(x_train, y_train.values))\n",
    "\n",
    "    return target\n",
    "  \n",
    "        \n",
    "\n",
    "city_lgbm=pd.DataFrame()\n",
    "\n",
    "\n",
    "result = nn()   \n",
    "result = np.array(result)\n",
    "city_lgbm['x_exit']=result[:,0]\n",
    "city_lgbm['y_exit']=result[:,1]"
   ]
  },
  {
   "cell_type": "code",
   "execution_count": null,
   "metadata": {},
   "outputs": [],
   "source": [
    "\n",
    "\n",
    "\n",
    "\n",
    "city = [within_measure(x, y) for x,y in zip(city_lgbm.x_exit.values,city_lgbm.y_exit.values)]\n",
    "city_sqrt = [within_measure(x, y) for x,y in zip(test2.x_entry.values,test2.y_entry.values)]\n"
   ]
  },
  {
   "cell_type": "code",
   "execution_count": null,
   "metadata": {},
   "outputs": [],
   "source": [
    "\n",
    "\n",
    "\n",
    "\n",
    "\n",
    "\n",
    "submission= pd.DataFrame()\n",
    "trajectory_id = test2['trajectory_id']\n",
    "submission['id']=trajectory_id \n",
    "submission['target'] = city\n",
    "submission.to_csv('./output/nn/lstm.csv',index=False)    \n",
    "\n"
   ]
  },
  {
   "cell_type": "code",
   "execution_count": null,
   "metadata": {
    "scrolled": false
   },
   "outputs": [],
   "source": [
    "def plotmap(ycity,title):\n",
    "    fig, ax = plt.subplots()\n",
    "    fig.set_figheight(10)\n",
    "    fig.set_figwidth(16)\n",
    "\n",
    "    df=test2[['x_entry','y_entry']]\n",
    "    df['sqrt']=city_sqrt\n",
    "    df['target']=ycity\n",
    "    #df=df[df.sqrt==0]\n",
    "    leg=['Outside','City']\n",
    "    # Plot\n",
    "    for data in [df[df.target==1]]:\n",
    "        ax.scatter(data.x_entry.values, data.y_entry.values,c='r',s=10, alpha=0.5,label=leg.pop(0))\n",
    "\n",
    "    # Create a Rectangle patch\n",
    "    rect = patches.Rectangle((3750901.5068,-19268905.6133),3770901.5068-3750901.5068,19268905.6133-19208905.6133,linewidth=2,edgecolor='y',facecolor='none')\n",
    "\n",
    "    # Add the patch to the Axes\n",
    "    ax.add_patch(rect)    \n",
    "\n",
    "    ax.set(xlabel='x', ylabel='y',\n",
    "           title=title)\n",
    "    ax.legend(loc=\"upper left\", markerscale=2, scatterpoints=1, fontsize=10)\n",
    "    plt.show()"
   ]
  },
  {
   "cell_type": "code",
   "execution_count": null,
   "metadata": {},
   "outputs": [],
   "source": [
    "plotmap(city,'nn')"
   ]
  },
  {
   "cell_type": "code",
   "execution_count": null,
   "metadata": {},
   "outputs": [],
   "source": [
    "if devide_clusters:\n",
    "    plotmap(city_lgbm_c.target.values,'Clusters LGBM')"
   ]
  },
  {
   "cell_type": "code",
   "execution_count": null,
   "metadata": {},
   "outputs": [],
   "source": [
    "if devide_clusters:\n",
    "    plotmap(city.target.values,'Submission outside the sqrt')"
   ]
  },
  {
   "cell_type": "code",
   "execution_count": null,
   "metadata": {},
   "outputs": [],
   "source": []
  },
  {
   "cell_type": "code",
   "execution_count": null,
   "metadata": {},
   "outputs": [],
   "source": []
  }
 ],
 "metadata": {
  "kernelspec": {
   "display_name": "Python 3",
   "language": "python",
   "name": "python3"
  },
  "language_info": {
   "codemirror_mode": {
    "name": "ipython",
    "version": 3
   },
   "file_extension": ".py",
   "mimetype": "text/x-python",
   "name": "python",
   "nbconvert_exporter": "python",
   "pygments_lexer": "ipython3",
   "version": "3.7.1"
  }
 },
 "nbformat": 4,
 "nbformat_minor": 2
}
