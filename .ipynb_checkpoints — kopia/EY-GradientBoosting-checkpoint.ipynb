{
 "cells": [
  {
   "cell_type": "code",
   "execution_count": 1,
   "metadata": {},
   "outputs": [],
   "source": [
    "import pandas as pd\n",
    "import numpy as np\n",
    "import datetime"
   ]
  },
  {
   "cell_type": "code",
   "execution_count": 2,
   "metadata": {},
   "outputs": [],
   "source": [
    "train = pd.read_csv('./output/train.csv')    \n",
    "test = pd.read_csv('./output/test.csv')    \n",
    "test2 = pd.read_csv('./output/test2.csv')\n",
    "y_train=pd.read_csv('./output/y_train.csv')"
   ]
  },
  {
   "cell_type": "code",
   "execution_count": 3,
   "metadata": {},
   "outputs": [
    {
     "data": {
      "text/html": [
       "<div>\n",
       "<style scoped>\n",
       "    .dataframe tbody tr th:only-of-type {\n",
       "        vertical-align: middle;\n",
       "    }\n",
       "\n",
       "    .dataframe tbody tr th {\n",
       "        vertical-align: top;\n",
       "    }\n",
       "\n",
       "    .dataframe thead th {\n",
       "        text-align: right;\n",
       "    }\n",
       "</style>\n",
       "<table border=\"1\" class=\"dataframe\">\n",
       "  <thead>\n",
       "    <tr style=\"text-align: right;\">\n",
       "      <th></th>\n",
       "      <th>hash</th>\n",
       "      <th>trajectory_id</th>\n",
       "      <th>time_entry</th>\n",
       "      <th>time_exit</th>\n",
       "      <th>vmax</th>\n",
       "      <th>vmin</th>\n",
       "      <th>vmean</th>\n",
       "      <th>x_entry</th>\n",
       "      <th>y_entry</th>\n",
       "      <th>x_exit</th>\n",
       "      <th>y_exit</th>\n",
       "      <th>x_dir</th>\n",
       "      <th>y_dir</th>\n",
       "    </tr>\n",
       "  </thead>\n",
       "  <tbody>\n",
       "    <tr>\n",
       "      <th>0</th>\n",
       "      <td>00032f51796fd5437b238e3a9823d13d_31</td>\n",
       "      <td>traj_00032f51796fd5437b238e3a9823d13d_31_0</td>\n",
       "      <td>42197</td>\n",
       "      <td>42617</td>\n",
       "      <td>0.0</td>\n",
       "      <td>0.0</td>\n",
       "      <td>0.0</td>\n",
       "      <td>3.773413e+06</td>\n",
       "      <td>-1.909828e+07</td>\n",
       "      <td>3.773111e+06</td>\n",
       "      <td>-1.914508e+07</td>\n",
       "      <td>-302.789015</td>\n",
       "      <td>-46798.074140</td>\n",
       "    </tr>\n",
       "    <tr>\n",
       "      <th>1</th>\n",
       "      <td>00032f51796fd5437b238e3a9823d13d_31</td>\n",
       "      <td>traj_00032f51796fd5437b238e3a9823d13d_31_2</td>\n",
       "      <td>44497</td>\n",
       "      <td>44497</td>\n",
       "      <td>0.0</td>\n",
       "      <td>0.0</td>\n",
       "      <td>0.0</td>\n",
       "      <td>3.773199e+06</td>\n",
       "      <td>-1.914354e+07</td>\n",
       "      <td>3.773199e+06</td>\n",
       "      <td>-1.914354e+07</td>\n",
       "      <td>-302.789015</td>\n",
       "      <td>-46798.074140</td>\n",
       "    </tr>\n",
       "    <tr>\n",
       "      <th>2</th>\n",
       "      <td>00032f51796fd5437b238e3a9823d13d_31</td>\n",
       "      <td>traj_00032f51796fd5437b238e3a9823d13d_31_3</td>\n",
       "      <td>45267</td>\n",
       "      <td>47651</td>\n",
       "      <td>0.0</td>\n",
       "      <td>0.0</td>\n",
       "      <td>0.0</td>\n",
       "      <td>3.763760e+06</td>\n",
       "      <td>-1.921342e+07</td>\n",
       "      <td>3.771757e+06</td>\n",
       "      <td>-1.911092e+07</td>\n",
       "      <td>0.000000</td>\n",
       "      <td>0.000000</td>\n",
       "    </tr>\n",
       "    <tr>\n",
       "      <th>3</th>\n",
       "      <td>00032f51796fd5437b238e3a9823d13d_31</td>\n",
       "      <td>traj_00032f51796fd5437b238e3a9823d13d_31_4</td>\n",
       "      <td>48333</td>\n",
       "      <td>49393</td>\n",
       "      <td>0.0</td>\n",
       "      <td>0.0</td>\n",
       "      <td>0.0</td>\n",
       "      <td>3.773385e+06</td>\n",
       "      <td>-1.911344e+07</td>\n",
       "      <td>3.773131e+06</td>\n",
       "      <td>-1.914465e+07</td>\n",
       "      <td>7997.192219</td>\n",
       "      <td>102495.208073</td>\n",
       "    </tr>\n",
       "    <tr>\n",
       "      <th>4</th>\n",
       "      <td>00032f51796fd5437b238e3a9823d13d_31</td>\n",
       "      <td>traj_00032f51796fd5437b238e3a9823d13d_31_5</td>\n",
       "      <td>54212</td>\n",
       "      <td>54632</td>\n",
       "      <td>0.0</td>\n",
       "      <td>0.0</td>\n",
       "      <td>0.0</td>\n",
       "      <td>3.773118e+06</td>\n",
       "      <td>-1.914490e+07</td>\n",
       "      <td>NaN</td>\n",
       "      <td>NaN</td>\n",
       "      <td>-253.808439</td>\n",
       "      <td>-31208.509376</td>\n",
       "    </tr>\n",
       "  </tbody>\n",
       "</table>\n",
       "</div>"
      ],
      "text/plain": [
       "                                  hash  \\\n",
       "0  00032f51796fd5437b238e3a9823d13d_31   \n",
       "1  00032f51796fd5437b238e3a9823d13d_31   \n",
       "2  00032f51796fd5437b238e3a9823d13d_31   \n",
       "3  00032f51796fd5437b238e3a9823d13d_31   \n",
       "4  00032f51796fd5437b238e3a9823d13d_31   \n",
       "\n",
       "                                trajectory_id  time_entry  time_exit  vmax  \\\n",
       "0  traj_00032f51796fd5437b238e3a9823d13d_31_0       42197      42617   0.0   \n",
       "1  traj_00032f51796fd5437b238e3a9823d13d_31_2       44497      44497   0.0   \n",
       "2  traj_00032f51796fd5437b238e3a9823d13d_31_3       45267      47651   0.0   \n",
       "3  traj_00032f51796fd5437b238e3a9823d13d_31_4       48333      49393   0.0   \n",
       "4  traj_00032f51796fd5437b238e3a9823d13d_31_5       54212      54632   0.0   \n",
       "\n",
       "   vmin  vmean       x_entry       y_entry        x_exit        y_exit  \\\n",
       "0   0.0    0.0  3.773413e+06 -1.909828e+07  3.773111e+06 -1.914508e+07   \n",
       "1   0.0    0.0  3.773199e+06 -1.914354e+07  3.773199e+06 -1.914354e+07   \n",
       "2   0.0    0.0  3.763760e+06 -1.921342e+07  3.771757e+06 -1.911092e+07   \n",
       "3   0.0    0.0  3.773385e+06 -1.911344e+07  3.773131e+06 -1.914465e+07   \n",
       "4   0.0    0.0  3.773118e+06 -1.914490e+07           NaN           NaN   \n",
       "\n",
       "         x_dir          y_dir  \n",
       "0  -302.789015  -46798.074140  \n",
       "1  -302.789015  -46798.074140  \n",
       "2     0.000000       0.000000  \n",
       "3  7997.192219  102495.208073  \n",
       "4  -253.808439  -31208.509376  "
      ]
     },
     "execution_count": 3,
     "metadata": {},
     "output_type": "execute_result"
    }
   ],
   "source": [
    "test.head()"
   ]
  },
  {
   "cell_type": "code",
   "execution_count": 4,
   "metadata": {},
   "outputs": [
    {
     "name": "stderr",
     "output_type": "stream",
     "text": [
      "[Parallel(n_jobs=-1)]: Using backend ThreadingBackend with 8 concurrent workers.\n",
      "[Parallel(n_jobs=-1)]: Done  34 tasks      | elapsed:  1.4min\n",
      "[Parallel(n_jobs=-1)]: Done 128 out of 128 | elapsed:  4.6min finished\n"
     ]
    },
    {
     "data": {
      "text/plain": [
       "RandomForestRegressor(bootstrap=True, criterion='mse', max_depth=128,\n",
       "           max_features='auto', max_leaf_nodes=None,\n",
       "           min_impurity_decrease=0.0, min_impurity_split=None,\n",
       "           min_samples_leaf=1, min_samples_split=2,\n",
       "           min_weight_fraction_leaf=0.0, n_estimators=128, n_jobs=-1,\n",
       "           oob_score=True, random_state=9471, verbose=True,\n",
       "           warm_start=False)"
      ]
     },
     "execution_count": 4,
     "metadata": {},
     "output_type": "execute_result"
    }
   ],
   "source": [
    "from sklearn.ensemble import RandomForestRegressor\n",
    "\n",
    "\n",
    "x_train = train.drop(columns=['hash','trajectory_id'])\n",
    "x_test = test2.drop(columns=['hash','trajectory_id'])\n",
    "\n",
    "model = RandomForestRegressor(max_depth=128,\n",
    "                              n_estimators=128,                               \n",
    "                              random_state=9471,\n",
    "                              n_jobs=-1,\n",
    "                              verbose=True,\n",
    "                             oob_score=True,\n",
    "                             )\n",
    "model.fit(x_train, y_train)\n"
   ]
  },
  {
   "cell_type": "code",
   "execution_count": 5,
   "metadata": {},
   "outputs": [
    {
     "name": "stderr",
     "output_type": "stream",
     "text": [
      "[Parallel(n_jobs=8)]: Using backend ThreadingBackend with 8 concurrent workers.\n",
      "[Parallel(n_jobs=8)]: Done  34 tasks      | elapsed:    0.2s\n",
      "[Parallel(n_jobs=8)]: Done 128 out of 128 | elapsed:    0.8s finished\n"
     ]
    }
   ],
   "source": [
    "pred = model.predict(x_test)\n",
    "#pred = pd.DataFrame(data=pred,columns=['x_exit','y_exit'])\n",
    "pred = pd.DataFrame({'x_exit':pred[:,0],'y_exit':pred[:,1]})"
   ]
  },
  {
   "cell_type": "code",
   "execution_count": 6,
   "metadata": {},
   "outputs": [],
   "source": [
    "def within_measure(x, y):\n",
    "    #  3750901.5068 ≤ 𝑥 ≤ 3770901.5068\n",
    "    #  −19268905.6133 ≤ 𝑦 ≤ −19208905.6133\n",
    "    if 3750901.5068 <= x and x <= 3770901.5068 and -19268905.6133 <= y and y <= -19208905.6133:\n",
    "        return 1\n",
    "    else:\n",
    "        return 0\n",
    "\n",
    "X = pred['x_exit'].values \n",
    "Y = pred['y_exit'].values\n",
    "\n",
    "city = [within_measure(x, y) for x,y in zip(X,Y)]"
   ]
  },
  {
   "cell_type": "code",
   "execution_count": 7,
   "metadata": {},
   "outputs": [
    {
     "data": {
      "text/html": [
       "<div>\n",
       "<style scoped>\n",
       "    .dataframe tbody tr th:only-of-type {\n",
       "        vertical-align: middle;\n",
       "    }\n",
       "\n",
       "    .dataframe tbody tr th {\n",
       "        vertical-align: top;\n",
       "    }\n",
       "\n",
       "    .dataframe thead th {\n",
       "        text-align: right;\n",
       "    }\n",
       "</style>\n",
       "<table border=\"1\" class=\"dataframe\">\n",
       "  <thead>\n",
       "    <tr style=\"text-align: right;\">\n",
       "      <th></th>\n",
       "      <th>id</th>\n",
       "      <th>target</th>\n",
       "    </tr>\n",
       "  </thead>\n",
       "  <tbody>\n",
       "    <tr>\n",
       "      <th>0</th>\n",
       "      <td>traj_00032f51796fd5437b238e3a9823d13d_31_5</td>\n",
       "      <td>0</td>\n",
       "    </tr>\n",
       "    <tr>\n",
       "      <th>1</th>\n",
       "      <td>traj_000479418b5561ab694a2870cc04fd43_25_10</td>\n",
       "      <td>0</td>\n",
       "    </tr>\n",
       "    <tr>\n",
       "      <th>2</th>\n",
       "      <td>traj_000506a39775e5bca661ac80e3f466eb_29_5</td>\n",
       "      <td>1</td>\n",
       "    </tr>\n",
       "    <tr>\n",
       "      <th>3</th>\n",
       "      <td>traj_0005401ceddaf27a9b7f0d42ef1fbe95_1_4</td>\n",
       "      <td>0</td>\n",
       "    </tr>\n",
       "    <tr>\n",
       "      <th>4</th>\n",
       "      <td>traj_00063a4f6c12e1e4de7d876580620667_3_4</td>\n",
       "      <td>0</td>\n",
       "    </tr>\n",
       "    <tr>\n",
       "      <th>5</th>\n",
       "      <td>traj_0006535be25bb52dd06983447880c964_5_12</td>\n",
       "      <td>0</td>\n",
       "    </tr>\n",
       "    <tr>\n",
       "      <th>6</th>\n",
       "      <td>traj_0006f84bb33ec929d1cda7686f861d0a_31_3</td>\n",
       "      <td>1</td>\n",
       "    </tr>\n",
       "    <tr>\n",
       "      <th>7</th>\n",
       "      <td>traj_00093ae562586aed0e053b8431e8ace4_23_10</td>\n",
       "      <td>0</td>\n",
       "    </tr>\n",
       "    <tr>\n",
       "      <th>8</th>\n",
       "      <td>traj_000c739e444a70e1804d757a0580caaa_31_3</td>\n",
       "      <td>1</td>\n",
       "    </tr>\n",
       "    <tr>\n",
       "      <th>9</th>\n",
       "      <td>traj_000d479078af08618bddc7f09082b8c3_11_6</td>\n",
       "      <td>0</td>\n",
       "    </tr>\n",
       "    <tr>\n",
       "      <th>10</th>\n",
       "      <td>traj_000d6fba12a7d06defe90e3c9162c11e_29_11</td>\n",
       "      <td>1</td>\n",
       "    </tr>\n",
       "    <tr>\n",
       "      <th>11</th>\n",
       "      <td>traj_000efd6f95db39d6ba35027f02b5628f_9_20</td>\n",
       "      <td>1</td>\n",
       "    </tr>\n",
       "    <tr>\n",
       "      <th>12</th>\n",
       "      <td>traj_000feace3a33be9245e2783cdff467a8_15_12</td>\n",
       "      <td>0</td>\n",
       "    </tr>\n",
       "    <tr>\n",
       "      <th>13</th>\n",
       "      <td>traj_0011b48d0cf4f962833edd701afaf419_3_7</td>\n",
       "      <td>0</td>\n",
       "    </tr>\n",
       "    <tr>\n",
       "      <th>14</th>\n",
       "      <td>traj_001484cf0f956c316070be4b4c6352ff_29_7</td>\n",
       "      <td>1</td>\n",
       "    </tr>\n",
       "    <tr>\n",
       "      <th>15</th>\n",
       "      <td>traj_001d29060cfe35996cfeb141210ecbeb_9_2</td>\n",
       "      <td>1</td>\n",
       "    </tr>\n",
       "    <tr>\n",
       "      <th>16</th>\n",
       "      <td>traj_001dff40eab7eea1c10d0fadcea0c779_9_7</td>\n",
       "      <td>0</td>\n",
       "    </tr>\n",
       "    <tr>\n",
       "      <th>17</th>\n",
       "      <td>traj_001f9345a2979c553125c65499630f25_29_3</td>\n",
       "      <td>1</td>\n",
       "    </tr>\n",
       "    <tr>\n",
       "      <th>18</th>\n",
       "      <td>traj_002447d99e8f6c3bc6c1329140979a91_25_7</td>\n",
       "      <td>0</td>\n",
       "    </tr>\n",
       "    <tr>\n",
       "      <th>19</th>\n",
       "      <td>traj_002531dea45cd4059e92099630ebf775_3_10</td>\n",
       "      <td>0</td>\n",
       "    </tr>\n",
       "  </tbody>\n",
       "</table>\n",
       "</div>"
      ],
      "text/plain": [
       "                                             id  target\n",
       "0    traj_00032f51796fd5437b238e3a9823d13d_31_5       0\n",
       "1   traj_000479418b5561ab694a2870cc04fd43_25_10       0\n",
       "2    traj_000506a39775e5bca661ac80e3f466eb_29_5       1\n",
       "3     traj_0005401ceddaf27a9b7f0d42ef1fbe95_1_4       0\n",
       "4     traj_00063a4f6c12e1e4de7d876580620667_3_4       0\n",
       "5    traj_0006535be25bb52dd06983447880c964_5_12       0\n",
       "6    traj_0006f84bb33ec929d1cda7686f861d0a_31_3       1\n",
       "7   traj_00093ae562586aed0e053b8431e8ace4_23_10       0\n",
       "8    traj_000c739e444a70e1804d757a0580caaa_31_3       1\n",
       "9    traj_000d479078af08618bddc7f09082b8c3_11_6       0\n",
       "10  traj_000d6fba12a7d06defe90e3c9162c11e_29_11       1\n",
       "11   traj_000efd6f95db39d6ba35027f02b5628f_9_20       1\n",
       "12  traj_000feace3a33be9245e2783cdff467a8_15_12       0\n",
       "13    traj_0011b48d0cf4f962833edd701afaf419_3_7       0\n",
       "14   traj_001484cf0f956c316070be4b4c6352ff_29_7       1\n",
       "15    traj_001d29060cfe35996cfeb141210ecbeb_9_2       1\n",
       "16    traj_001dff40eab7eea1c10d0fadcea0c779_9_7       0\n",
       "17   traj_001f9345a2979c553125c65499630f25_29_3       1\n",
       "18   traj_002447d99e8f6c3bc6c1329140979a91_25_7       0\n",
       "19   traj_002531dea45cd4059e92099630ebf775_3_10       0"
      ]
     },
     "execution_count": 7,
     "metadata": {},
     "output_type": "execute_result"
    }
   ],
   "source": [
    "submission= pd.DataFrame()\n",
    "trajectory_id = test2['trajectory_id']\n",
    "submission['id']=trajectory_id \n",
    "submission['target'] = city\n",
    "submission.to_csv('./output/submission_forest.csv',index=False)    \n",
    "submission[:20]"
   ]
  },
  {
   "cell_type": "code",
   "execution_count": 8,
   "metadata": {},
   "outputs": [
    {
     "data": {
      "text/plain": [
       "0"
      ]
     },
     "execution_count": 8,
     "metadata": {},
     "output_type": "execute_result"
    }
   ],
   "source": [
    "min(city)"
   ]
  },
  {
   "cell_type": "code",
   "execution_count": 9,
   "metadata": {},
   "outputs": [
    {
     "data": {
      "text/plain": [
       "1"
      ]
     },
     "execution_count": 9,
     "metadata": {},
     "output_type": "execute_result"
    }
   ],
   "source": [
    "max(city)"
   ]
  },
  {
   "cell_type": "code",
   "execution_count": null,
   "metadata": {},
   "outputs": [],
   "source": []
  }
 ],
 "metadata": {
  "kernelspec": {
   "display_name": "Python 3",
   "language": "python",
   "name": "python3"
  },
  "language_info": {
   "codemirror_mode": {
    "name": "ipython",
    "version": 3
   },
   "file_extension": ".py",
   "mimetype": "text/x-python",
   "name": "python",
   "nbconvert_exporter": "python",
   "pygments_lexer": "ipython3",
   "version": "3.7.1"
  }
 },
 "nbformat": 4,
 "nbformat_minor": 2
}
